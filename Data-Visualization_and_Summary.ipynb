{
 "cells": [
  {
   "cell_type": "code",
   "execution_count": 15,
   "id": "3dbc6b6e",
   "metadata": {},
   "outputs": [],
   "source": [
    "'''Read a data set. Fit a linear model for the data set.\n",
    "    Calculate the confidence interval, SSE, SSR and the F-statistics at each sample size.'''\n",
    "import statsmodels.api as sm\n",
    "import numpy as np\n",
    "from scipy import stats\n",
    "\n",
    "beta = [1, 1, 2, 0]  # beta0, beta1, beta2, beta3\n",
    "x_1, x_2, x_3 = np.random.uniform(0, 1, 100), np.random.uniform(0, 1, 100), np.random.uniform(0, 1, 100)\n",
    "epsilon = np.random.normal(0, 1, 100)\n",
    "x_list = sm.add_constant(np.c_[x_1, x_2, x_3])  # x0, x1, x2, x3\n",
    "y_list = np.dot(x_list, beta) + epsilon\n",
    "model = sm.OLS(y_list, x_list)\n",
    "result = model.fit()\n",
    "beta_hat = result.params\n",
    "y_hat = result.fittedvalues\n",
    "def k_plus_1(x, k):\n",
    "    return np.linalg.inv(np.dot(np.transpose(x), x))[k][k]"
   ]
  },
  {
   "cell_type": "code",
   "execution_count": 16,
   "id": "5a0c4250",
   "metadata": {},
   "outputs": [
    {
     "name": "stdout",
     "output_type": "stream",
     "text": [
      "The 95% CI for beta0 is:[ 0.28551619459102273 , 1.533645594329893 ]\n",
      "The 95% CI for beta1 is:[ 0.3862071996335593 , 1.847425711790713 ]\n",
      "The 95% CI for beta2 is:[ 1.3041892327567834 , 2.6986792794150958 ]\n",
      "The 95% CI for beta3 is:[ -0.6615216221065301 , 0.7903862454492729 ]\n"
     ]
    }
   ],
   "source": [
    "# Codes for i.\n",
    "SSE = np.sum(np.square(y_list - y_hat))\n",
    "s_square = SSE/(100-3-1)\n",
    "se_0 = np.sqrt(s_square * k_plus_1(x_list, 0))\n",
    "se_1 = np.sqrt(s_square * k_plus_1(x_list, 1))\n",
    "se_2 = np.sqrt(s_square * k_plus_1(x_list, 2))\n",
    "se_3 = np.sqrt(s_square * k_plus_1(x_list, 3))\n",
    "t_alpha = stats.t.ppf(0.975, 96)    # alpha=0.05, n-p-1=96\n",
    "beta_0_low, beta_0_high = beta_hat[0]-t_alpha*se_0, beta_hat[0]+t_alpha*se_0\n",
    "beta_1_low, beta_1_high = beta_hat[1]-t_alpha*se_1, beta_hat[1]+t_alpha*se_1\n",
    "beta_2_low, beta_2_high = beta_hat[2]-t_alpha*se_2, beta_hat[2]+t_alpha*se_2\n",
    "beta_3_low, beta_3_high = beta_hat[3]-t_alpha*se_3, beta_hat[3]+t_alpha*se_3\n",
    "print('The 95% CI for beta0 is:[',beta_0_low,',', beta_0_high,']')\n",
    "print('The 95% CI for beta1 is:[',beta_1_low,',', beta_1_high,']')\n",
    "print('The 95% CI for beta2 is:[',beta_2_low,',', beta_2_high,']')\n",
    "print('The 95% CI for beta3 is:[',beta_3_low,',', beta_3_high,']')"
   ]
  },
  {
   "cell_type": "code",
   "execution_count": 17,
   "id": "80913632",
   "metadata": {},
   "outputs": [
    {
     "name": "stdout",
     "output_type": "stream",
     "text": [
      "The SSE is:  103.20239426425358\n",
      "The SSR is:  46.25549735788377\n",
      "The value for F statistic is: 14.342457130037456\n",
      "The corresponding p-value is:  8.541720915593716e-08\n"
     ]
    }
   ],
   "source": [
    "# Codes for ii.\n",
    "y_bar = y_list.mean()\n",
    "SSR = np.sum(np.square(y_hat-y_bar))\n",
    "F_value = (SSR/3) / (SSE/(100-3-1))\n",
    "p_value = stats.f.sf(F_value, 3, 96)\n",
    "print('The SSE is: ', SSE)\n",
    "print('The SSR is: ', SSR)\n",
    "print('The value for F statistic is:', F_value)\n",
    "print('The corresponding p-value is: ', p_value)"
   ]
  },
  {
   "cell_type": "code",
   "execution_count": 18,
   "id": "6bed0fbd",
   "metadata": {},
   "outputs": [
    {
     "name": "stdout",
     "output_type": "stream",
     "text": [
      "The number of simulation with p-value < 0.05 is: 55\n"
     ]
    }
   ],
   "source": [
    "# Codes for iii.\n",
    "num_of_success = 0\n",
    "for times in range(1000):\n",
    "    x_1, x_2, x_3 = np.random.uniform(0, 1, 100), np.random.uniform(0, 1, 100), np.random.uniform(0, 1, 100)\n",
    "    epsilon_new = np.random.normal(0, 1, 100)\n",
    "    x_list_new = sm.add_constant(np.c_[x_1, x_2, x_3])  # insert a column 1 to combine with beta_0\n",
    "    y_list_new = np.dot(x_list_new, beta) + epsilon_new\n",
    "    model_new = sm.OLS(y_list_new, x_list_new)\n",
    "    result_new = model_new.fit()\n",
    "    beta_hat_new = result_new.params\n",
    "    y_hat_new = result_new.fittedvalues\n",
    "    SSE_new = np.sum(np.square(y_list_new-y_hat_new))\n",
    "    s_square = SSE_new / (100-3-1)\n",
    "    se_3_new = np.sqrt(s_square * k_plus_1(x_list_new, 3))\n",
    "    T_value = beta_hat_new[3]/se_3_new\n",
    "    p_value = stats.t.sf(T_value, 99)\n",
    "    if p_value < 0.05:\n",
    "        num_of_success += 1\n",
    "print('The number of simulation with p-value < 0.05 is:', num_of_success)"
   ]
  },
  {
   "cell_type": "code",
   "execution_count": 19,
   "id": "4819e2af",
   "metadata": {},
   "outputs": [
    {
     "name": "stdout",
     "output_type": "stream",
     "text": [
      "The predicted value for y0 is:  1.6900153005612468\n",
      "The prediction interval for y0 is [ -0.3271424877843412 , 3.707173088906835 ]\n"
     ]
    }
   ],
   "source": [
    "# Codes for iv.\n",
    "x_0_list = [1, 0.3, 0.2, 0.7]\n",
    "y_0_predict = np.dot(x_0_list, beta_hat)\n",
    "xTx_1 = np.linalg.inv(np.dot(np.transpose(x_list), x_list))\n",
    "x0_x_x = np.dot(np.transpose(x_0_list), np.dot(xTx_1, x_0_list))\n",
    "sqrt = 1+s_square*x0_x_x\n",
    "y_0_predict_low = y_0_predict - np.sqrt(sqrt)*stats.t.ppf(0.975, 96)\n",
    "y_0_predict_high = y_0_predict + np.sqrt(sqrt)*stats.t.ppf(0.975, 96)\n",
    "print('The predicted value for y0 is: ', y_0_predict)\n",
    "print('The prediction interval for y0 is [', y_0_predict_low, ',', y_0_predict_high, ']')"
   ]
  },
  {
   "cell_type": "code",
   "execution_count": 30,
   "id": "501a98a7",
   "metadata": {},
   "outputs": [
    {
     "name": "stdout",
     "output_type": "stream",
     "text": [
      "The width of 95% prediction interval for yo are: 3.834680996409798 for n=200\n",
      "The width of 95% prediction interval for yo are: 3.783012023406738 for n=500\n",
      "The width of 95% prediction interval for yo are: 3.817365532374801 for n=1000\n"
     ]
    }
   ],
   "source": [
    "# Codes for v.\n",
    "n_list = [200, 500, 1000]\n",
    "beta = [1, 1, 2, 0]\n",
    "for size in n_list:\n",
    "    x_1_large, x_2_large, x_3_large = np.random.uniform(0, 1, size), np.random.uniform(0, 1, size), np.random.uniform(0, 1, size)\n",
    "    epsilon = np.random.normal(0, 1, size)\n",
    "    x_list_large = sm.add_constant(np.c_[x_1_large, x_2_large, x_3_large])\n",
    "    y_list_large = np.dot(x_list_large, beta) + epsilon\n",
    "    model_large = sm.OLS(y_list_large, x_list_large)\n",
    "    result_large = model_large.fit()\n",
    "    beta_hat_large = result_large.params\n",
    "    y_hat_large = result_large.fittedvalues\n",
    "    SSE_large = np.sum(np.square(y_list_large-y_hat_large))\n",
    "    s_square_large = SSE_large/(size-4)\n",
    "    x_0_list = [1, 0.3, 0.2, 0.7]\n",
    "    y_0_predict_large = np.dot(x_0_list, beta_hat_large)\n",
    "    xTx_1_large = np.linalg.inv(np.dot(np.transpose(x_list_large), x_list_large))\n",
    "    x0_x_x_large = np.dot(np.transpose(x_0_list), np.dot(xTx_1_large, x_0_list))\n",
    "    sqrt_large = 1+s_square*x0_x_x_large\n",
    "    y_predict_large_low = y_0_predict_large - np.sqrt(s_square_large*sqrt_large)*stats.t.ppf(0.975, size-4)\n",
    "    y_predict_large_high = y_0_predict_large + np.sqrt(s_square_large*sqrt_large)*stats.t.ppf(0.975, size-4)\n",
    "    print('The width of 95% prediction interval for yo are:', y_predict_large_high-y_predict_large_low, 'for n='+str(size))"
   ]
  },
  {
   "cell_type": "code",
   "execution_count": 31,
   "id": "e49469d8",
   "metadata": {},
   "outputs": [],
   "source": [
    "'''The followings are codes for Q2'''\n",
    "import pandas as pd\n",
    "import numpy as np"
   ]
  },
  {
   "cell_type": "code",
   "execution_count": 33,
   "id": "0dae40a4",
   "metadata": {},
   "outputs": [
    {
     "name": "stdout",
     "output_type": "stream",
     "text": [
      "N is: 31431\n",
      "SS(T) is: 2548511528.542309\n",
      "SS(E) is: 118348579728.59135\n",
      "TSS is: 120897091257.13359\n",
      "The F_value is: 338.41667571048055\n"
     ]
    }
   ],
   "source": [
    "clouds, clear, snow = [], [], []\n",
    "data = pd.read_csv(r\"C:\\Users\\谭兆宏\\Desktop\\traffic.csv\")\n",
    "for index in range(len(data['weather_main'])):\n",
    "    if data['weather_main'][index] == 'Clouds':\n",
    "        clouds.append(data['traffic_volume'][index])\n",
    "    elif data['weather_main'][index] == 'Clear':\n",
    "        clear.append(data['traffic_volume'][index])\n",
    "    elif data['weather_main'][index] == 'Snow':\n",
    "        snow.append(data['traffic_volume'][index])\n",
    "y_bar = (sum(clear)+sum(clouds)+sum(snow))/(len(clouds)+len(clear)+len(snow))\n",
    "SS_T, SS_E, TSS = 0, 0, 0\n",
    "for weather_type in [clouds, clear, snow]:\n",
    "    SS_T += len(weather_type)*np.square(y_bar - np.mean(weather_type))\n",
    "    for i in range(len(weather_type)):\n",
    "        TSS += np.square(weather_type[i] - y_bar)\n",
    "        SS_E += np.square(weather_type[i] - np.mean(weather_type))\n",
    "N_value = len(clouds)+len(clear)+len(snow)\n",
    "F_value = (SS_T/(3-1)) / (SS_E/(N_value))\n",
    "print('N is:', N_value)\n",
    "print('SS(T) is:', SS_T)\n",
    "print('SS(E) is:', SS_E)\n",
    "print('TSS is:', TSS)\n",
    "print('The F_value is:', F_value)"
   ]
  }
 ],
 "metadata": {
  "kernelspec": {
   "display_name": "Python 3 (ipykernel)",
   "language": "python",
   "name": "python3"
  },
  "language_info": {
   "codemirror_mode": {
    "name": "ipython",
    "version": 3
   },
   "file_extension": ".py",
   "mimetype": "text/x-python",
   "name": "python",
   "nbconvert_exporter": "python",
   "pygments_lexer": "ipython3",
   "version": "3.10.5"
  }
 },
 "nbformat": 4,
 "nbformat_minor": 5
}
